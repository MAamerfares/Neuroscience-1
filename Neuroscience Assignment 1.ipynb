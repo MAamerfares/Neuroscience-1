{
  "nbformat": 4,
  "nbformat_minor": 0,
  "metadata": {
    "colab": {
      "provenance": []
    },
    "kernelspec": {
      "name": "python3",
      "display_name": "Python 3"
    },
    "language_info": {
      "name": "python"
    }
  },
  "cells": [
    {
      "cell_type": "code",
      "execution_count": 1,
      "metadata": {
        "id": "IrQ2S4JBk8WZ"
      },
      "outputs": [],
      "source": [
        "import torch"
      ]
    },
    {
      "cell_type": "code",
      "source": [
        "input_values = torch.tensor([[0.3, 0.7]])\n",
        "b1, b2 = 0.5, 0.7\n",
        "target_values = torch.tensor([0.1, 0.99])"
      ],
      "metadata": {
        "id": "B14P4TTIlG6X"
      },
      "execution_count": 2,
      "outputs": []
    },
    {
      "cell_type": "code",
      "source": [
        "w1, w2 = torch.empty(1, 2).uniform_(-0.5, 0.5)[0]\n",
        "w3, w4 = torch.empty(1, 2).uniform_(-0.5, 0.5)[0]\n",
        "w5, w6 = torch.empty(1, 2).uniform_(-0.5, 0.5)[0]\n",
        "w7, w8 = torch.empty(1, 2).uniform_(-0.5, 0.5)[0]"
      ],
      "metadata": {
        "id": "es7vqjpglMOZ"
      },
      "execution_count": 3,
      "outputs": []
    },
    {
      "cell_type": "code",
      "source": [
        "net_h1 = input_values[0, 0] * w1 + input_values[0, 1] * w2 + b1\n",
        "net_h2 = input_values[0, 0] * w3 + input_values[0, 1] * w4 + b1\n",
        "print(f\"net_h1={net_h1:.8f}, net_h2={net_h2:.8f}\")"
      ],
      "metadata": {
        "colab": {
          "base_uri": "https://localhost:8080/"
        },
        "id": "bqQjv1WKlQ5g",
        "outputId": "b24a1fa0-890b-4f71-a4f0-506a0d4a1771"
      },
      "execution_count": 4,
      "outputs": [
        {
          "output_type": "stream",
          "name": "stdout",
          "text": [
            "net_h1=0.36624599, net_h2=0.52776843\n"
          ]
        }
      ]
    },
    {
      "cell_type": "code",
      "source": [
        "out_h1 = (torch.exp(net_h1) - torch.exp(-net_h1)) / (torch.exp(net_h1) + torch.exp(-net_h1))\n",
        "out_h2 = (torch.exp(net_h2) - torch.exp(-net_h2)) / (torch.exp(net_h2) + torch.exp(-net_h2))\n",
        "print(f\"out_h1={out_h1:.8f}, out_h2={out_h2:.8f}\")"
      ],
      "metadata": {
        "colab": {
          "base_uri": "https://localhost:8080/"
        },
        "id": "X8NB-j4tlU4q",
        "outputId": "a67f1cf4-0af6-4f78-ae40-d71f43985bcb"
      },
      "execution_count": 5,
      "outputs": [
        {
          "output_type": "stream",
          "name": "stdout",
          "text": [
            "out_h1=0.35070375, out_h2=0.48367342\n"
          ]
        }
      ]
    },
    {
      "cell_type": "code",
      "source": [
        "net_o1 = out_h1 * w5 + out_h2 * w6 + b2\n",
        "net_o2 = out_h1 * w7 + out_h2 * w8 + b2\n",
        "print(f\"net_o1={net_o1:.8f}, net_o2={net_o2:.8f}\")"
      ],
      "metadata": {
        "colab": {
          "base_uri": "https://localhost:8080/"
        },
        "id": "OLXaPpVLlW1P",
        "outputId": "50809b5c-8183-4edb-d44b-9c9b9ec11a11"
      },
      "execution_count": 6,
      "outputs": [
        {
          "output_type": "stream",
          "name": "stdout",
          "text": [
            "net_o1=0.98930508, net_o2=1.00188208\n"
          ]
        }
      ]
    },
    {
      "cell_type": "code",
      "source": [
        "out_o1 = (torch.exp(net_o1) - torch.exp(-net_o1)) / (torch.exp(net_o1) + torch.exp(-net_o1))\n",
        "out_o2 = (torch.exp(net_o2) - torch.exp(-net_o2)) / (torch.exp(net_o2) + torch.exp(-net_o2))\n",
        "print(f\"out_o1={out_o1:.8f}, out_o2={out_o2:.8f}\")"
      ],
      "metadata": {
        "colab": {
          "base_uri": "https://localhost:8080/"
        },
        "id": "fqwejj6elc--",
        "outputId": "02c83a3e-7bbb-44e8-dd6e-857df95aec83"
      },
      "execution_count": 7,
      "outputs": [
        {
          "output_type": "stream",
          "name": "stdout",
          "text": [
            "out_o1=0.75706583, out_o2=0.76238346\n"
          ]
        }
      ]
    },
    {
      "cell_type": "code",
      "source": [
        "predicted_output = torch.tensor([out_o1, out_o2])\n",
        "error = torch.mean((predicted_output - target_values) ** 2)\n",
        "print(f\"Total error: {error:.8f}\\n\")"
      ],
      "metadata": {
        "colab": {
          "base_uri": "https://localhost:8080/"
        },
        "id": "kFGJ0YYaru3u",
        "outputId": "c0787d6a-866f-4b3e-c7d2-c7e3dc8be8cb"
      },
      "execution_count": 8,
      "outputs": [
        {
          "output_type": "stream",
          "name": "stdout",
          "text": [
            "Total error: 0.24177238\n",
            "\n"
          ]
        }
      ]
    }
  ]
}